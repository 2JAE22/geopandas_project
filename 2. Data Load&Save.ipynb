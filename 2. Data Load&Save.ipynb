{
 "cells": [
  {
   "cell_type": "code",
   "execution_count": 2,
   "id": "3593e28f",
   "metadata": {},
   "outputs": [],
   "source": [
    "import pandas as pd\n",
    "import geopandas as gpd\n",
    "import matplotlib.pyplot as plt\n",
    "import os\n",
    "import warnings\n",
    "warnings.filterwarnings(\"ignore\")\n"
   ]
  },
  {
   "cell_type": "code",
   "execution_count": 3,
   "id": "65dc3be2",
   "metadata": {},
   "outputs": [
    {
     "data": {
      "text/plain": [
       "['LARD_ADM_SECT_SGG_대구',\n",
       " 'LSMD_ADM_SECT_UMD_대구',\n",
       " '대구시_시군구.gpkg',\n",
       " '대구시_읍면동(법정동).gpkg']"
      ]
     },
     "execution_count": 3,
     "metadata": {},
     "output_type": "execute_result"
    }
   ],
   "source": [
    "path = \"data\"\n",
    "os.listdir(path)"
   ]
  },
  {
   "cell_type": "code",
   "execution_count": 4,
   "id": "9814e65c",
   "metadata": {},
   "outputs": [
    {
     "data": {
      "text/plain": [
       "['LARD_ADM_SECT_SGG_27_202308.cst',\n",
       " 'LARD_ADM_SECT_SGG_27_202308.dbf',\n",
       " 'LARD_ADM_SECT_SGG_27_202308.fix',\n",
       " 'LARD_ADM_SECT_SGG_27_202308.prj',\n",
       " 'LARD_ADM_SECT_SGG_27_202308.shp',\n",
       " 'LARD_ADM_SECT_SGG_27_202308.shx']"
      ]
     },
     "execution_count": 4,
     "metadata": {},
     "output_type": "execute_result"
    }
   ],
   "source": [
    "sgg_path = os.path.join(path , 'LARD_ADM_SECT_SGG_대구')\n",
    "os.listdir(sgg_path)"
   ]
  },
  {
   "cell_type": "code",
   "execution_count": 5,
   "id": "4a18515c",
   "metadata": {},
   "outputs": [
    {
     "data": {
      "text/html": [
       "<div>\n",
       "<style scoped>\n",
       "    .dataframe tbody tr th:only-of-type {\n",
       "        vertical-align: middle;\n",
       "    }\n",
       "\n",
       "    .dataframe tbody tr th {\n",
       "        vertical-align: top;\n",
       "    }\n",
       "\n",
       "    .dataframe thead th {\n",
       "        text-align: right;\n",
       "    }\n",
       "</style>\n",
       "<table border=\"1\" class=\"dataframe\">\n",
       "  <thead>\n",
       "    <tr style=\"text-align: right;\">\n",
       "      <th></th>\n",
       "      <th>ADM_SECT_C</th>\n",
       "      <th>SGG_NM</th>\n",
       "      <th>SGG_OID</th>\n",
       "      <th>COL_ADM_SE</th>\n",
       "      <th>geometry</th>\n",
       "    </tr>\n",
       "  </thead>\n",
       "  <tbody>\n",
       "    <tr>\n",
       "      <th>0</th>\n",
       "      <td>27110</td>\n",
       "      <td>Áß±¸</td>\n",
       "      <td>NaN</td>\n",
       "      <td>27110</td>\n",
       "      <td>POLYGON ((344462.548 365374.848, 344524.674 36...</td>\n",
       "    </tr>\n",
       "    <tr>\n",
       "      <th>1</th>\n",
       "      <td>27140</td>\n",
       "      <td>µ¿±¸</td>\n",
       "      <td>NaN</td>\n",
       "      <td>27140</td>\n",
       "      <td>POLYGON ((352898.213 381103.549, 352966.621 38...</td>\n",
       "    </tr>\n",
       "    <tr>\n",
       "      <th>2</th>\n",
       "      <td>27170</td>\n",
       "      <td>¼­±¸</td>\n",
       "      <td>NaN</td>\n",
       "      <td>27170</td>\n",
       "      <td>POLYGON ((342843.509 366454.127, 342776.201 36...</td>\n",
       "    </tr>\n",
       "    <tr>\n",
       "      <th>3</th>\n",
       "      <td>27200</td>\n",
       "      <td>³²±¸</td>\n",
       "      <td>NaN</td>\n",
       "      <td>27200</td>\n",
       "      <td>POLYGON ((342669.965 363422.142, 342980.935 36...</td>\n",
       "    </tr>\n",
       "    <tr>\n",
       "      <th>4</th>\n",
       "      <td>27230</td>\n",
       "      <td>ºÏ±¸</td>\n",
       "      <td>NaN</td>\n",
       "      <td>27230</td>\n",
       "      <td>POLYGON ((345685.978 377003.581, 345697.043 37...</td>\n",
       "    </tr>\n",
       "  </tbody>\n",
       "</table>\n",
       "</div>"
      ],
      "text/plain": [
       "  ADM_SECT_C SGG_NM  SGG_OID COL_ADM_SE  \\\n",
       "0      27110   Áß±¸      NaN      27110   \n",
       "1      27140   µ¿±¸      NaN      27140   \n",
       "2      27170   ¼­±¸      NaN      27170   \n",
       "3      27200   ³²±¸      NaN      27200   \n",
       "4      27230   ºÏ±¸      NaN      27230   \n",
       "\n",
       "                                            geometry  \n",
       "0  POLYGON ((344462.548 365374.848, 344524.674 36...  \n",
       "1  POLYGON ((352898.213 381103.549, 352966.621 38...  \n",
       "2  POLYGON ((342843.509 366454.127, 342776.201 36...  \n",
       "3  POLYGON ((342669.965 363422.142, 342980.935 36...  \n",
       "4  POLYGON ((345685.978 377003.581, 345697.043 37...  "
      ]
     },
     "execution_count": 5,
     "metadata": {},
     "output_type": "execute_result"
    }
   ],
   "source": [
    "sgg = gpd.read_file(os.path.join(sgg_path,'LARD_ADM_SECT_SGG_27_202308.shp'))\n",
    "sgg.head()"
   ]
  },
  {
   "cell_type": "code",
   "execution_count": 6,
   "id": "429c956a",
   "metadata": {},
   "outputs": [
    {
     "data": {
      "image/png": "[encoded data removed]",
      "text/plain": [
       "<Figure size 640x480 with 1 Axes>"
      ]
     },
     "metadata": {},
     "output_type": "display_data"
    }
   ],
   "source": [
    "ax = sgg.plot(column = \"SGG_NM\", categorical = True)\n",
    "ax.set_title(\"Daegu\")\n",
    "ax.set_axis_off()\n",
    "plt.show()"
   ]
  },
  {
   "cell_type": "code",
   "execution_count": 7,
   "id": "79749dd8",
   "metadata": {},
   "outputs": [
    {
     "data": {
      "text/plain": [
       "['LSMD_ADM_SECT_UMD_27_202308.cst',\n",
       " 'LSMD_ADM_SECT_UMD_27_202308.dbf',\n",
       " 'LSMD_ADM_SECT_UMD_27_202308.fix',\n",
       " 'LSMD_ADM_SECT_UMD_27_202308.prj',\n",
       " 'LSMD_ADM_SECT_UMD_27_202308.shp',\n",
       " 'LSMD_ADM_SECT_UMD_27_202308.shx']"
      ]
     },
     "execution_count": 7,
     "metadata": {},
     "output_type": "execute_result"
    }
   ],
   "source": [
    "umd_path = os.path.join(path , 'LSMD_ADM_SECT_UMD_대구')\n",
    "os.listdir(umd_path)"
   ]
  },
  {
   "cell_type": "code",
   "execution_count": 8,
   "id": "62b708fa",
   "metadata": {},
   "outputs": [
    {
     "data": {
      "text/html": [
       "<div>\n",
       "<style scoped>\n",
       "    .dataframe tbody tr th:only-of-type {\n",
       "        vertical-align: middle;\n",
       "    }\n",
       "\n",
       "    .dataframe tbody tr th {\n",
       "        vertical-align: top;\n",
       "    }\n",
       "\n",
       "    .dataframe thead th {\n",
       "        text-align: right;\n",
       "    }\n",
       "</style>\n",
       "<table border=\"1\" class=\"dataframe\">\n",
       "  <thead>\n",
       "    <tr style=\"text-align: right;\">\n",
       "      <th></th>\n",
       "      <th>EMD_CD</th>\n",
       "      <th>COL_ADM_SE</th>\n",
       "      <th>EMD_NM</th>\n",
       "      <th>SGG_OID</th>\n",
       "      <th>geometry</th>\n",
       "    </tr>\n",
       "  </thead>\n",
       "  <tbody>\n",
       "    <tr>\n",
       "      <th>0</th>\n",
       "      <td>27110101</td>\n",
       "      <td>27110</td>\n",
       "      <td>동인동1가</td>\n",
       "      <td>534</td>\n",
       "      <td>POLYGON ((345103.860 365233.108, 345094.303 36...</td>\n",
       "    </tr>\n",
       "    <tr>\n",
       "      <th>1</th>\n",
       "      <td>27110102</td>\n",
       "      <td>27110</td>\n",
       "      <td>동인동2가</td>\n",
       "      <td>535</td>\n",
       "      <td>POLYGON ((344560.459 364948.036, 344574.310 36...</td>\n",
       "    </tr>\n",
       "    <tr>\n",
       "      <th>2</th>\n",
       "      <td>27110103</td>\n",
       "      <td>27110</td>\n",
       "      <td>동인동3가</td>\n",
       "      <td>536</td>\n",
       "      <td>POLYGON ((345418.388 365374.582, 345463.199 36...</td>\n",
       "    </tr>\n",
       "    <tr>\n",
       "      <th>3</th>\n",
       "      <td>27110104</td>\n",
       "      <td>27110</td>\n",
       "      <td>동인동4가</td>\n",
       "      <td>537</td>\n",
       "      <td>POLYGON ((345797.583 364746.716, 345841.459 36...</td>\n",
       "    </tr>\n",
       "    <tr>\n",
       "      <th>4</th>\n",
       "      <td>27110105</td>\n",
       "      <td>27110</td>\n",
       "      <td>삼덕동1가</td>\n",
       "      <td>538</td>\n",
       "      <td>POLYGON ((344095.651 364613.872, 344134.616 36...</td>\n",
       "    </tr>\n",
       "  </tbody>\n",
       "</table>\n",
       "</div>"
      ],
      "text/plain": [
       "     EMD_CD COL_ADM_SE EMD_NM  SGG_OID  \\\n",
       "0  27110101      27110  동인동1가      534   \n",
       "1  27110102      27110  동인동2가      535   \n",
       "2  27110103      27110  동인동3가      536   \n",
       "3  27110104      27110  동인동4가      537   \n",
       "4  27110105      27110  삼덕동1가      538   \n",
       "\n",
       "                                            geometry  \n",
       "0  POLYGON ((345103.860 365233.108, 345094.303 36...  \n",
       "1  POLYGON ((344560.459 364948.036, 344574.310 36...  \n",
       "2  POLYGON ((345418.388 365374.582, 345463.199 36...  \n",
       "3  POLYGON ((345797.583 364746.716, 345841.459 36...  \n",
       "4  POLYGON ((344095.651 364613.872, 344134.616 36...  "
      ]
     },
     "execution_count": 8,
     "metadata": {},
     "output_type": "execute_result"
    }
   ],
   "source": [
    "umd = gpd.read_file(os.path.join(umd_path,'LSMD_ADM_SECT_UMD_27_202308.shp'), encoding = \"EUC-KR\")\n",
    "umd.head()"
   ]
  },
  {
   "cell_type": "code",
   "execution_count": 9,
   "id": "53e4d55a",
   "metadata": {},
   "outputs": [
    {
     "data": {
      "image/png": "[encoded data removed]",
      "text/plain": [
       "<Figure size 640x480 with 1 Axes>"
      ]
     },
     "metadata": {},
     "output_type": "display_data"
    },
    {
     "data": {
      "text/plain": [
       "<Figure size 2000x1500 with 0 Axes>"
      ]
     },
     "metadata": {},
     "output_type": "display_data"
    }
   ],
   "source": [
    "ax = umd.plot(column = \"EMD_NM\", categorical = True)\n",
    "ax.set_title(\"Daegu\")\n",
    "ax.set_axis_off()\n",
    "plt.figure(figsize =(20,15))\n",
    "plt.show()"
   ]
  },
  {
   "cell_type": "code",
   "execution_count": 10,
   "id": "595b95b2",
   "metadata": {},
   "outputs": [],
   "source": [
    "path = \"data\"\n",
    "\n",
    "sgg.to_file(os.path.join(path, \"대구시_시군구.gpkg\"), driver = \"GPKG\", encoding = \"UTF-8\")\n",
    "umd.to_file(os.path.join(path, \"대구시_읍면동(법정동).gpkg\"), driver = \"GPKG\", encoding = \"UTF-8\")"
   ]
  },
  {
   "cell_type": "code",
   "execution_count": 11,
   "id": "58f8288e",
   "metadata": {},
   "outputs": [
    {
     "data": {
      "text/plain": [
       "<module 'os' from 'C:\\\\Users\\\\user\\\\ananconda3.2\\\\envs\\\\geo\\\\lib\\\\os.py'>"
      ]
     },
     "execution_count": 11,
     "metadata": {},
     "output_type": "execute_result"
    }
   ],
   "source": []
  },
  {
   "cell_type": "code",
   "execution_count": null,
   "id": "ee8a8504",
   "metadata": {},
   "outputs": [],
   "source": []
  }
 ],
 "metadata": {
  "kernelspec": {
   "display_name": "geo",
   "language": "python",
   "name": "geo"
  },
  "language_info": {
   "codemirror_mode": {
    "name": "ipython",
    "version": 3
   },
   "file_extension": ".py",
   "mimetype": "text/x-python",
   "name": "python",
   "nbconvert_exporter": "python",
   "pygments_lexer": "ipython3",
   "version": "3.8.17"
  }
 },
 "nbformat": 4,
 "nbformat_minor": 5
}
