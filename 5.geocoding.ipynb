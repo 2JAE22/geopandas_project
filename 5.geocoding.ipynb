{
 "cells": [
  {
   "cell_type": "code",
   "execution_count": 1,
   "id": "73a1a43d",
   "metadata": {},
   "outputs": [],
   "source": [
    "import requests\n",
    "import pandas as pd\n",
    "import geopandas as gpd\n",
    "import matplotlib.pyplot as plt\n",
    "import os"
   ]
  },
  {
   "cell_type": "code",
   "execution_count": 3,
   "id": "2dbb8891",
   "metadata": {},
   "outputs": [
    {
     "data": {
      "text/plain": [
       "['LARD_ADM_SECT_SGG_대구',\n",
       " 'LSMD_ADM_SECT_UMD_대구',\n",
       " '대구광역시_시내버스 정류소 위치정보_20220731.csv',\n",
       " '대구광역시_전기차 충전기 구축 현황_20230531.csv',\n",
       " '대구시_버스_정류장',\n",
       " '대구시_버스정류장.gpkg',\n",
       " '대구시_시군구.gpkg',\n",
       " '대구시_읍면동(법정동).gpkg']"
      ]
     },
     "execution_count": 3,
     "metadata": {},
     "output_type": "execute_result"
    }
   ],
   "source": [
    "path = \"data\"\n",
    "os.listdir(path)"
   ]
  },
  {
   "cell_type": "code",
   "execution_count": 4,
   "id": "a3b48449",
   "metadata": {},
   "outputs": [
    {
     "data": {
      "text/html": [
       "<div>\n",
       "<style scoped>\n",
       "    .dataframe tbody tr th:only-of-type {\n",
       "        vertical-align: middle;\n",
       "    }\n",
       "\n",
       "    .dataframe tbody tr th {\n",
       "        vertical-align: top;\n",
       "    }\n",
       "\n",
       "    .dataframe thead th {\n",
       "        text-align: right;\n",
       "    }\n",
       "</style>\n",
       "<table border=\"1\" class=\"dataframe\">\n",
       "  <thead>\n",
       "    <tr style=\"text-align: right;\">\n",
       "      <th></th>\n",
       "      <th>충전소명</th>\n",
       "      <th>주소</th>\n",
       "      <th>ID</th>\n",
       "      <th>충전기 형태</th>\n",
       "      <th>충전기 용량</th>\n",
       "    </tr>\n",
       "  </thead>\n",
       "  <tbody>\n",
       "    <tr>\n",
       "      <th>0</th>\n",
       "      <td>DTC섬유박물관</td>\n",
       "      <td>대구광역시 동구 팔공로 227DTC섬유박물관(봉무동 1560-1)</td>\n",
       "      <td>1</td>\n",
       "      <td>DC차데모+AC3상+DC콤보</td>\n",
       "      <td>50kW</td>\n",
       "    </tr>\n",
       "    <tr>\n",
       "      <th>1</th>\n",
       "      <td>가창면 행정복지센터</td>\n",
       "      <td>대구광역시 달성군 가창면 가창로 1100가창면행정복지센터(82 가창면사무소)</td>\n",
       "      <td>1</td>\n",
       "      <td>AC완속</td>\n",
       "      <td>7kW</td>\n",
       "    </tr>\n",
       "    <tr>\n",
       "      <th>2</th>\n",
       "      <td>갓바위공영3주차장</td>\n",
       "      <td>대구광역시 동구 갓바위로 227갓바위공영3주차장(진인동 123-74 갓바위공영3주차장)</td>\n",
       "      <td>1</td>\n",
       "      <td>AC완속</td>\n",
       "      <td>7kW</td>\n",
       "    </tr>\n",
       "    <tr>\n",
       "      <th>3</th>\n",
       "      <td>갓바위공영3주차장</td>\n",
       "      <td>대구광역시 동구 갓바위로 227갓바위공영3주차장(진인동 123-74 갓바위공영3주차장)</td>\n",
       "      <td>2</td>\n",
       "      <td>AC완속</td>\n",
       "      <td>7kW</td>\n",
       "    </tr>\n",
       "    <tr>\n",
       "      <th>4</th>\n",
       "      <td>갓바위공영3주차장</td>\n",
       "      <td>대구광역시 동구 갓바위로 227갓바위공영3주차장(진인동 123-74 갓바위공영3주차장)</td>\n",
       "      <td>3</td>\n",
       "      <td>AC완속</td>\n",
       "      <td>7kW</td>\n",
       "    </tr>\n",
       "  </tbody>\n",
       "</table>\n",
       "</div>"
      ],
      "text/plain": [
       "         충전소명                                                주소  ID  \\\n",
       "0    DTC섬유박물관              대구광역시 동구 팔공로 227DTC섬유박물관(봉무동 1560-1)   1   \n",
       "1  가창면 행정복지센터        대구광역시 달성군 가창면 가창로 1100가창면행정복지센터(82 가창면사무소)   1   \n",
       "2   갓바위공영3주차장  대구광역시 동구 갓바위로 227갓바위공영3주차장(진인동 123-74 갓바위공영3주차장)   1   \n",
       "3   갓바위공영3주차장  대구광역시 동구 갓바위로 227갓바위공영3주차장(진인동 123-74 갓바위공영3주차장)   2   \n",
       "4   갓바위공영3주차장  대구광역시 동구 갓바위로 227갓바위공영3주차장(진인동 123-74 갓바위공영3주차장)   3   \n",
       "\n",
       "            충전기 형태 충전기 용량  \n",
       "0  DC차데모+AC3상+DC콤보   50kW  \n",
       "1             AC완속    7kW  \n",
       "2             AC완속    7kW  \n",
       "3             AC완속    7kW  \n",
       "4             AC완속    7kW  "
      ]
     },
     "execution_count": 4,
     "metadata": {},
     "output_type": "execute_result"
    }
   ],
   "source": [
    "fname = '대구광역시_전기차 충전기 구축 현황_20230531.csv'\n",
    "df = pd.read_csv(os.path.join(path, fname), encoding = \"cp949\")\n",
    "df.head()"
   ]
  },
  {
   "cell_type": "code",
   "execution_count": 28,
   "id": "42f33f71",
   "metadata": {},
   "outputs": [
    {
     "data": {
      "text/plain": [
       "0                  대구광역시 동구 팔공로 227DTC섬유박물관(봉무동 1560-1)\n",
       "1            대구광역시 달성군 가창면 가창로 1100가창면행정복지센터(82 가창면사무소)\n",
       "2      대구광역시 동구 갓바위로 227갓바위공영3주차장(진인동 123-74 갓바위공영3주차장)\n",
       "3      대구광역시 동구 갓바위로 227갓바위공영3주차장(진인동 123-74 갓바위공영3주차장)\n",
       "4      대구광역시 동구 갓바위로 227갓바위공영3주차장(진인동 123-74 갓바위공영3주차장)\n",
       "                             ...                       \n",
       "286                   대구광역시 달성군 화원읍 성천로 208한국도로공사(유천IC)\n",
       "287                   대구광역시 달성군 화원읍 성천로 208한국도로공사(유천IC)\n",
       "288                                 대구광역시 수성구 청호로57길 10\n",
       "289                                  대구광역시 동구 화랑로41길 46\n",
       "290                          대구광역시 동구 화랑로25길 45대구시_효목2동\n",
       "Name: 주소, Length: 291, dtype: object"
      ]
     },
     "execution_count": 28,
     "metadata": {},
     "output_type": "execute_result"
    }
   ],
   "source": [
    "df[\"주소\"]"
   ]
  },
  {
   "cell_type": "code",
   "execution_count": null,
   "id": "4ba1c5da",
   "metadata": {},
   "outputs": [],
   "source": [
    "#이거 geometry 구하는 방법\n",
    "#1. 위도와 경도의 데이터를 구한다._requests 해서 구해야 할듯\n",
    "#2. 음 어떻게 구하라는거징.."
   ]
  },
  {
   "cell_type": "code",
   "execution_count": 8,
   "id": "0f567e8a",
   "metadata": {},
   "outputs": [
    {
     "name": "stdout",
     "output_type": "stream",
     "text": [
      "주소: 대구광역시 수성구 매호동\n",
      "위도: 35.844136113\n",
      "경도: 128.706576383\n"
     ]
    }
   ],
   "source": [
    "# import requests\n",
    "\n",
    "# def get_coordinates(address):\n",
    "#     api_url = \"https://api.vworld.kr/req/address?\"\n",
    "#     params = {\n",
    "#         \"service\": \"address\",\n",
    "#         \"request\": \"getcoord\",\n",
    "#         \"crs\": \"epsg:4326\",\n",
    "#         \"address\": address,\n",
    "#         \"format\": \"json\",\n",
    "#         \"type\": \"road\",\n",
    "#         \"key\": \"DDD71544-CA2B-380E-B978-B0E299196B18\",\n",
    "#         \"refine\": \"false\"\n",
    "#     }\n",
    "\n",
    "#     try:\n",
    "#         response = requests.get(api_url, params=params)\n",
    "#         data = response.json()\n",
    "#         if data.get(\"response\").get(\"status\") == \"OK\":\n",
    "#             # 위도와 경도 추출\n",
    "#             coordinates = data.get(\"response\").get(\"result\").get(\"point\")\n",
    "#             latitude = coordinates.get(\"y\")\n",
    "#             longitude = coordinates.get(\"x\")\n",
    "#             return latitude, longitude\n",
    "#         else:\n",
    "#             print(\"주소를 찾을 수 없습니다.\")\n",
    "#             return None, None\n",
    "#     except Exception as e:\n",
    "#         print(f\"API 호출 중 오류 발생: {e}\")\n",
    "#         return None, None\n",
    "\n",
    "# # # 테스트용 주소 입력\n",
    "# # address = \"대구광역시 수성구 매호동\"\n",
    "# # latitude, longitude = get_coordinates(address)\n",
    "# # if latitude is not None and longitude is not None:\n",
    "# #     print(f\"주소: {address}\")\n",
    "# #     print(f\"위도: {latitude}\")\n",
    "# #     print(f\"경도: {longitude}\")\n"
   ]
  },
  {
   "cell_type": "code",
   "execution_count": 40,
   "id": "f072c62b",
   "metadata": {},
   "outputs": [],
   "source": [
    "import requests\n",
    "import pandas as pd\n",
    "\n",
    "def get_coordinates(address):\n",
    "    api_url = \"https://api.vworld.kr/req/address\"\n",
    "    params = {\n",
    "        \"service\": \"address\",\n",
    "        \"request\": \"getcoord\",\n",
    "        \"crs\": \"epsg:4326\",\n",
    "        \"address\": address,\n",
    "        \"format\": \"json\",\n",
    "        \"type\": \"road\",\n",
    "        \"key\": \"DDD71544-CA2B-380E-B978-B0E299196B18\",\n",
    "        \"refine\": \"false\"\n",
    "    }\n",
    "    res = requests.get(api_url, params=params)\n",
    "    if res.status_code == 200:\n",
    "        data = res.json()\n",
    "        try:\n",
    "            x = data[\"response\"][\"result\"][\"point\"][\"x\"]\n",
    "            y = data[\"response\"][\"result\"][\"point\"][\"y\"]\n",
    "            return pd.Series([x, y])\n",
    "        except :\n",
    "            pass\n",
    "    return pd.Series([None, None])\n",
    "\n",
    "\n"
   ]
  },
  {
   "cell_type": "code",
   "execution_count": null,
   "id": "83fc8cd1",
   "metadata": {},
   "outputs": [],
   "source": [
    "df[\"x\",\"y\"] = "
   ]
  },
  {
   "cell_type": "code",
   "execution_count": null,
   "id": "d6e0f9c7",
   "metadata": {},
   "outputs": [],
   "source": [
    "df.loc[df[\"x\"].isna(),:].to_csv(\"fail.csv\",index = False)"
   ]
  },
  {
   "cell_type": "markdown",
   "id": "b8213336",
   "metadata": {},
   "source": [
    "> 결측치 x,y얻는법\n",
    "\n",
    "- google spread를 킨다\n",
    "- extension 에서 geocoding  쓴다.\n",
    "- 그럼 생긴다.\n"
   ]
  },
  {
   "cell_type": "code",
   "execution_count": null,
   "id": "6515b6e2",
   "metadata": {},
   "outputs": [],
   "source": [
    "df = df[df[\"\"]]"
   ]
  },
  {
   "cell_type": "code",
   "execution_count": null,
   "id": "f9103d26",
   "metadata": {},
   "outputs": [],
   "source": [
    "awe_table = awe_table.drop([\"x\",\"y\"],axis =1)\n",
    "awe_table = awe_table.rename(columns = {\"Longitude\":\"x\",\"Latitude\":\"y\"})"
   ]
  },
  {
   "cell_type": "code",
   "execution_count": null,
   "id": "293793bd",
   "metadata": {},
   "outputs": [],
   "source": [
    "result = pd.concat([df,awe_table])"
   ]
  },
  {
   "cell_type": "code",
   "execution_count": null,
   "id": "38e48555",
   "metadata": {},
   "outputs": [],
   "source": [
    "geometry = gpd.points_from_xy(result[\"x\"],result[\"y\"])\n",
    "g"
   ]
  },
  {
   "cell_type": "code",
   "execution_count": null,
   "id": "6a00f4b5",
   "metadata": {},
   "outputs": [],
   "source": [
    "gdf = gdf.set_crs(epsg =4326)\n",
    "gdf.to_file(\"data/대구시_전기자동차충전소.gpkg\", drive = \"GPKG\",encoding =\"UTF-8\")\n"
   ]
  },
  {
   "cell_type": "code",
   "execution_count": null,
   "id": "97dae0ec",
   "metadata": {},
   "outputs": [],
   "source": []
  },
  {
   "cell_type": "code",
   "execution_count": null,
   "id": "88998842",
   "metadata": {},
   "outputs": [],
   "source": []
  }
 ],
 "metadata": {
  "kernelspec": {
   "display_name": "geo",
   "language": "python",
   "name": "geo"
  },
  "language_info": {
   "codemirror_mode": {
    "name": "ipython",
    "version": 3
   },
   "file_extension": ".py",
   "mimetype": "text/x-python",
   "name": "python",
   "nbconvert_exporter": "python",
   "pygments_lexer": "ipython3",
   "version": "3.8.17"
  }
 },
 "nbformat": 4,
 "nbformat_minor": 5
}
