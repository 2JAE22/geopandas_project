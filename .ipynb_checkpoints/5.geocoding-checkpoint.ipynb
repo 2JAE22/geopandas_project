{
 "cells": [
  {
   "cell_type": "code",
   "execution_count": 1,
   "id": "d6b96e24",
   "metadata": {},
   "outputs": [],
   "source": [
    "import requests\n",
    "import pandas as pd\n",
    "import geopandas as gpd\n",
    "import matplotlib.pyplot as plt\n",
    "import os"
   ]
  },
  {
   "cell_type": "code",
   "execution_count": 3,
   "id": "55aada80",
   "metadata": {},
   "outputs": [
    {
     "data": {
      "text/plain": [
       "['LARD_ADM_SECT_SGG_대구',\n",
       " 'LSMD_ADM_SECT_UMD_대구',\n",
       " '대구광역시_시내버스 정류소 위치정보_20220731.csv',\n",
       " '대구광역시_전기차 충전기 구축 현황_20230531.csv',\n",
       " '대구시_버스_정류장',\n",
       " '대구시_버스정류장.gpkg',\n",
       " '대구시_시군구.gpkg',\n",
       " '대구시_읍면동(법정동).gpkg']"
      ]
     },
     "execution_count": 3,
     "metadata": {},
     "output_type": "execute_result"
    }
   ],
   "source": [
    "path = \"data\"\n",
    "os.listdir(path)"
   ]
  },
  {
   "cell_type": "code",
   "execution_count": 4,
   "id": "1c05a1fb",
   "metadata": {},
   "outputs": [
    {
     "data": {
      "text/html": [
       "<div>\n",
       "<style scoped>\n",
       "    .dataframe tbody tr th:only-of-type {\n",
       "        vertical-align: middle;\n",
       "    }\n",
       "\n",
       "    .dataframe tbody tr th {\n",
       "        vertical-align: top;\n",
       "    }\n",
       "\n",
       "    .dataframe thead th {\n",
       "        text-align: right;\n",
       "    }\n",
       "</style>\n",
       "<table border=\"1\" class=\"dataframe\">\n",
       "  <thead>\n",
       "    <tr style=\"text-align: right;\">\n",
       "      <th></th>\n",
       "      <th>충전소명</th>\n",
       "      <th>주소</th>\n",
       "      <th>ID</th>\n",
       "      <th>충전기 형태</th>\n",
       "      <th>충전기 용량</th>\n",
       "    </tr>\n",
       "  </thead>\n",
       "  <tbody>\n",
       "    <tr>\n",
       "      <th>0</th>\n",
       "      <td>DTC섬유박물관</td>\n",
       "      <td>대구광역시 동구 팔공로 227DTC섬유박물관(봉무동 1560-1)</td>\n",
       "      <td>1</td>\n",
       "      <td>DC차데모+AC3상+DC콤보</td>\n",
       "      <td>50kW</td>\n",
       "    </tr>\n",
       "    <tr>\n",
       "      <th>1</th>\n",
       "      <td>가창면 행정복지센터</td>\n",
       "      <td>대구광역시 달성군 가창면 가창로 1100가창면행정복지센터(82 가창면사무소)</td>\n",
       "      <td>1</td>\n",
       "      <td>AC완속</td>\n",
       "      <td>7kW</td>\n",
       "    </tr>\n",
       "    <tr>\n",
       "      <th>2</th>\n",
       "      <td>갓바위공영3주차장</td>\n",
       "      <td>대구광역시 동구 갓바위로 227갓바위공영3주차장(진인동 123-74 갓바위공영3주차장)</td>\n",
       "      <td>1</td>\n",
       "      <td>AC완속</td>\n",
       "      <td>7kW</td>\n",
       "    </tr>\n",
       "    <tr>\n",
       "      <th>3</th>\n",
       "      <td>갓바위공영3주차장</td>\n",
       "      <td>대구광역시 동구 갓바위로 227갓바위공영3주차장(진인동 123-74 갓바위공영3주차장)</td>\n",
       "      <td>2</td>\n",
       "      <td>AC완속</td>\n",
       "      <td>7kW</td>\n",
       "    </tr>\n",
       "    <tr>\n",
       "      <th>4</th>\n",
       "      <td>갓바위공영3주차장</td>\n",
       "      <td>대구광역시 동구 갓바위로 227갓바위공영3주차장(진인동 123-74 갓바위공영3주차장)</td>\n",
       "      <td>3</td>\n",
       "      <td>AC완속</td>\n",
       "      <td>7kW</td>\n",
       "    </tr>\n",
       "  </tbody>\n",
       "</table>\n",
       "</div>"
      ],
      "text/plain": [
       "         충전소명                                                주소  ID  \\\n",
       "0    DTC섬유박물관              대구광역시 동구 팔공로 227DTC섬유박물관(봉무동 1560-1)   1   \n",
       "1  가창면 행정복지센터        대구광역시 달성군 가창면 가창로 1100가창면행정복지센터(82 가창면사무소)   1   \n",
       "2   갓바위공영3주차장  대구광역시 동구 갓바위로 227갓바위공영3주차장(진인동 123-74 갓바위공영3주차장)   1   \n",
       "3   갓바위공영3주차장  대구광역시 동구 갓바위로 227갓바위공영3주차장(진인동 123-74 갓바위공영3주차장)   2   \n",
       "4   갓바위공영3주차장  대구광역시 동구 갓바위로 227갓바위공영3주차장(진인동 123-74 갓바위공영3주차장)   3   \n",
       "\n",
       "            충전기 형태 충전기 용량  \n",
       "0  DC차데모+AC3상+DC콤보   50kW  \n",
       "1             AC완속    7kW  \n",
       "2             AC완속    7kW  \n",
       "3             AC완속    7kW  \n",
       "4             AC완속    7kW  "
      ]
     },
     "execution_count": 4,
     "metadata": {},
     "output_type": "execute_result"
    }
   ],
   "source": [
    "fname = '대구광역시_전기차 충전기 구축 현황_20230531.csv'\n",
    "df = pd.read_csv(os.path.join(path, fname), encoding = \"cp949\")\n",
    "df.head()"
   ]
  },
  {
   "cell_type": "code",
   "execution_count": 28,
   "id": "9afc530c",
   "metadata": {},
   "outputs": [
    {
     "data": {
      "text/plain": [
       "0                  대구광역시 동구 팔공로 227DTC섬유박물관(봉무동 1560-1)\n",
       "1            대구광역시 달성군 가창면 가창로 1100가창면행정복지센터(82 가창면사무소)\n",
       "2      대구광역시 동구 갓바위로 227갓바위공영3주차장(진인동 123-74 갓바위공영3주차장)\n",
       "3      대구광역시 동구 갓바위로 227갓바위공영3주차장(진인동 123-74 갓바위공영3주차장)\n",
       "4      대구광역시 동구 갓바위로 227갓바위공영3주차장(진인동 123-74 갓바위공영3주차장)\n",
       "                             ...                       \n",
       "286                   대구광역시 달성군 화원읍 성천로 208한국도로공사(유천IC)\n",
       "287                   대구광역시 달성군 화원읍 성천로 208한국도로공사(유천IC)\n",
       "288                                 대구광역시 수성구 청호로57길 10\n",
       "289                                  대구광역시 동구 화랑로41길 46\n",
       "290                          대구광역시 동구 화랑로25길 45대구시_효목2동\n",
       "Name: 주소, Length: 291, dtype: object"
      ]
     },
     "execution_count": 28,
     "metadata": {},
     "output_type": "execute_result"
    }
   ],
   "source": [
    "df[\"주소\"]"
   ]
  },
  {
   "cell_type": "code",
   "execution_count": null,
   "id": "d6743af0",
   "metadata": {},
   "outputs": [],
   "source": [
    "#이거 geometry 구하는 방법\n",
    "#1. 위도와 경도의 데이터를 구한다._requests 해서 구해야 할듯\n",
    "#2. 음 어떻게 구하라는거징.."
   ]
  },
  {
   "cell_type": "code",
   "execution_count": 8,
   "id": "54aac39f",
   "metadata": {},
   "outputs": [
    {
     "name": "stdout",
     "output_type": "stream",
     "text": [
      "주소: 대구광역시 수성구 매호동\n",
      "위도: 35.844136113\n",
      "경도: 128.706576383\n"
     ]
    }
   ],
   "source": [
    "# import requests\n",
    "\n",
    "# def get_coordinates(address):\n",
    "#     api_url = \"https://api.vworld.kr/req/address?\"\n",
    "#     params = {\n",
    "#         \"service\": \"address\",\n",
    "#         \"request\": \"getcoord\",\n",
    "#         \"crs\": \"epsg:4326\",\n",
    "#         \"address\": address,\n",
    "#         \"format\": \"json\",\n",
    "#         \"type\": \"road\",\n",
    "#         \"key\": \"DDD71544-CA2B-380E-B978-B0E299196B18\",\n",
    "#         \"refine\": \"false\"\n",
    "#     }\n",
    "\n",
    "#     try:\n",
    "#         response = requests.get(api_url, params=params)\n",
    "#         data = response.json()\n",
    "#         if data.get(\"response\").get(\"status\") == \"OK\":\n",
    "#             # 위도와 경도 추출\n",
    "#             coordinates = data.get(\"response\").get(\"result\").get(\"point\")\n",
    "#             latitude = coordinates.get(\"y\")\n",
    "#             longitude = coordinates.get(\"x\")\n",
    "#             return latitude, longitude\n",
    "#         else:\n",
    "#             print(\"주소를 찾을 수 없습니다.\")\n",
    "#             return None, None\n",
    "#     except Exception as e:\n",
    "#         print(f\"API 호출 중 오류 발생: {e}\")\n",
    "#         return None, None\n",
    "\n",
    "# # # 테스트용 주소 입력\n",
    "# # address = \"대구광역시 수성구 매호동\"\n",
    "# # latitude, longitude = get_coordinates(address)\n",
    "# # if latitude is not None and longitude is not None:\n",
    "# #     print(f\"주소: {address}\")\n",
    "# #     print(f\"위도: {latitude}\")\n",
    "# #     print(f\"경도: {longitude}\")\n"
   ]
  },
  {
   "cell_type": "code",
   "execution_count": 25,
   "id": "1de79904",
   "metadata": {},
   "outputs": [
    {
     "name": "stdout",
     "output_type": "stream",
     "text": [
      "0    127.034244012\n",
      "1     37.490804994\n",
      "dtype: object\n"
     ]
    }
   ],
   "source": [
    "import requests\n",
    "import pandas as pd\n",
    "\n",
    "def get_coordinates(address):\n",
    "    api_url = \"https://api.vworld.kr/req/address\"\n",
    "    params = {\n",
    "        \"service\": \"address\",\n",
    "        \"request\": \"getcoord\",\n",
    "        \"crs\": \"epsg:4326\",\n",
    "        \"address\": address,\n",
    "        \"format\": \"json\",\n",
    "        \"type\": \"road\",\n",
    "        \"key\": \"DDD71544-CA2B-380E-B978-B0E299196B18\",\n",
    "        \"refine\": \"false\"\n",
    "    }\n",
    "    res = requests.get(api_url, params=params)\n",
    "    if res.status_code == 200:\n",
    "        data = res.json()\n",
    "        try:\n",
    "            x = data[\"response\"][\"result\"][\"point\"][\"x\"]\n",
    "            y = data[\"response\"][\"result\"][\"point\"][\"y\"]\n",
    "            return pd.Series([x, y])\n",
    "        except KeyError:\n",
    "            return pd.Series([None, None])\n",
    "\n",
    "# 테스트용 주소 입력\n",
    "address = \"서울특별시 강남구 역삼동\"\n",
    "result = get_coordinates(address)\n",
    "print(result)\n"
   ]
  },
  {
   "cell_type": "code",
   "execution_count": 27,
   "id": "0ba02a0e",
   "metadata": {},
   "outputs": [
    {
     "data": {
      "text/html": [
       "<div>\n",
       "<style scoped>\n",
       "    .dataframe tbody tr th:only-of-type {\n",
       "        vertical-align: middle;\n",
       "    }\n",
       "\n",
       "    .dataframe tbody tr th {\n",
       "        vertical-align: top;\n",
       "    }\n",
       "\n",
       "    .dataframe thead th {\n",
       "        text-align: right;\n",
       "    }\n",
       "</style>\n",
       "<table border=\"1\" class=\"dataframe\">\n",
       "  <thead>\n",
       "    <tr style=\"text-align: right;\">\n",
       "      <th></th>\n",
       "      <th>충전소명</th>\n",
       "      <th>주소</th>\n",
       "      <th>ID</th>\n",
       "      <th>충전기 형태</th>\n",
       "      <th>충전기 용량</th>\n",
       "    </tr>\n",
       "  </thead>\n",
       "  <tbody>\n",
       "    <tr>\n",
       "      <th>24</th>\n",
       "      <td>다사체육공원 주차장</td>\n",
       "      <td>대구광역시 달성군 다사읍 다사로 441다사체육공원(달천리 137-2)</td>\n",
       "      <td>1</td>\n",
       "      <td>DC차데모+AC3상+DC콤보</td>\n",
       "      <td>50kW</td>\n",
       "    </tr>\n",
       "    <tr>\n",
       "      <th>174</th>\n",
       "      <td>충혼탑 주차장</td>\n",
       "      <td>대구광역시 남구 앞산순환로 540충혼탑 주차장(대명동 산186)</td>\n",
       "      <td>2</td>\n",
       "      <td>AC완속</td>\n",
       "      <td>7kW</td>\n",
       "    </tr>\n",
       "    <tr>\n",
       "      <th>73</th>\n",
       "      <td>두산오거리</td>\n",
       "      <td>대구광역시 수성구 지범로 15두산오거리 도로변(두산동 954-10)</td>\n",
       "      <td>3</td>\n",
       "      <td>AC완속</td>\n",
       "      <td>7kW</td>\n",
       "    </tr>\n",
       "    <tr>\n",
       "      <th>189</th>\n",
       "      <td>대구시_고산2동 행정복지센터</td>\n",
       "      <td>대구광역시 수성구 달구벌대로 3091고산2동 행정복지센터(고산2동 행정복지센터 고산...</td>\n",
       "      <td>1</td>\n",
       "      <td>DC차데모+AC3상+DC콤보</td>\n",
       "      <td>50kW</td>\n",
       "    </tr>\n",
       "    <tr>\n",
       "      <th>112</th>\n",
       "      <td>성서체육공원주차장</td>\n",
       "      <td>대구광역시 달서구 성서공단로22길 25성서체육공원주차장(월암동 1-18)</td>\n",
       "      <td>2</td>\n",
       "      <td>AC완속</td>\n",
       "      <td>7kW</td>\n",
       "    </tr>\n",
       "    <tr>\n",
       "      <th>255</th>\n",
       "      <td>대구시_안심4동 행정복지센터</td>\n",
       "      <td>대구광역시 동구 안심로49길 98안심4동 행정복지센터(14-1 안심4동주민센터)</td>\n",
       "      <td>1</td>\n",
       "      <td>DC차데모+AC3상+DC콤보</td>\n",
       "      <td>50kW</td>\n",
       "    </tr>\n",
       "    <tr>\n",
       "      <th>35</th>\n",
       "      <td>대구부광교회</td>\n",
       "      <td>대구광역시 북구 칠곡중앙대로52길 38대구부광교회(태전동 608-12)</td>\n",
       "      <td>1</td>\n",
       "      <td>DC차데모+AC3상+DC콤보</td>\n",
       "      <td>50kW</td>\n",
       "    </tr>\n",
       "    <tr>\n",
       "      <th>168</th>\n",
       "      <td>첨단의료산업진흥재단</td>\n",
       "      <td>대구광역시 동구 첨복로 80첨단의료산업진흥재단(동내동 1115-1)</td>\n",
       "      <td>1</td>\n",
       "      <td>DC차데모+AC3상+DC콤보</td>\n",
       "      <td>50kW</td>\n",
       "    </tr>\n",
       "    <tr>\n",
       "      <th>240</th>\n",
       "      <td>대구시_송현2동 행정복지센터</td>\n",
       "      <td>대구광역시 달서구 월배로83길 120-14</td>\n",
       "      <td>1</td>\n",
       "      <td>DC차데모+AC3상+DC콤보</td>\n",
       "      <td>50kW</td>\n",
       "    </tr>\n",
       "    <tr>\n",
       "      <th>127</th>\n",
       "      <td>시설안전관리사업소</td>\n",
       "      <td>대구광역시 달서구 성서공단로 58시설안전관리사업소(대천동 891)</td>\n",
       "      <td>2</td>\n",
       "      <td>AC완속</td>\n",
       "      <td>7kW</td>\n",
       "    </tr>\n",
       "  </tbody>\n",
       "</table>\n",
       "</div>"
      ],
      "text/plain": [
       "                충전소명                                                 주소  ID  \\\n",
       "24        다사체육공원 주차장             대구광역시 달성군 다사읍 다사로 441다사체육공원(달천리 137-2)   1   \n",
       "174          충혼탑 주차장                대구광역시 남구 앞산순환로 540충혼탑 주차장(대명동 산186)   2   \n",
       "73             두산오거리              대구광역시 수성구 지범로 15두산오거리 도로변(두산동 954-10)   3   \n",
       "189  대구시_고산2동 행정복지센터  대구광역시 수성구 달구벌대로 3091고산2동 행정복지센터(고산2동 행정복지센터 고산...   1   \n",
       "112        성서체육공원주차장           대구광역시 달서구 성서공단로22길 25성서체육공원주차장(월암동 1-18)   2   \n",
       "255  대구시_안심4동 행정복지센터       대구광역시 동구 안심로49길 98안심4동 행정복지센터(14-1 안심4동주민센터)   1   \n",
       "35            대구부광교회            대구광역시 북구 칠곡중앙대로52길 38대구부광교회(태전동 608-12)   1   \n",
       "168       첨단의료산업진흥재단              대구광역시 동구 첨복로 80첨단의료산업진흥재단(동내동 1115-1)   1   \n",
       "240  대구시_송현2동 행정복지센터                            대구광역시 달서구 월배로83길 120-14   1   \n",
       "127        시설안전관리사업소               대구광역시 달서구 성서공단로 58시설안전관리사업소(대천동 891)   2   \n",
       "\n",
       "              충전기 형태 충전기 용량  \n",
       "24   DC차데모+AC3상+DC콤보   50kW  \n",
       "174             AC완속    7kW  \n",
       "73              AC완속    7kW  \n",
       "189  DC차데모+AC3상+DC콤보   50kW  \n",
       "112             AC완속    7kW  \n",
       "255  DC차데모+AC3상+DC콤보   50kW  \n",
       "35   DC차데모+AC3상+DC콤보   50kW  \n",
       "168  DC차데모+AC3상+DC콤보   50kW  \n",
       "240  DC차데모+AC3상+DC콤보   50kW  \n",
       "127             AC완속    7kW  "
      ]
     },
     "execution_count": 27,
     "metadata": {},
     "output_type": "execute_result"
    }
   ],
   "source": [
    "sample = df.sample(10)\n",
    "sample"
   ]
  },
  {
   "cell_type": "code",
   "execution_count": null,
   "id": "b34aab5a",
   "metadata": {},
   "outputs": [],
   "source": []
  },
  {
   "cell_type": "code",
   "execution_count": 29,
   "id": "4bd11732",
   "metadata": {
    "scrolled": true
   },
   "outputs": [
    {
     "data": {
      "text/plain": [
       "0    None\n",
       "1    None\n",
       "dtype: object"
      ]
     },
     "execution_count": 29,
     "metadata": {},
     "output_type": "execute_result"
    }
   ],
   "source": [
    "get_coordinates(sample[\"주소\"])"
   ]
  },
  {
   "cell_type": "code",
   "execution_count": null,
   "id": "865758c4",
   "metadata": {},
   "outputs": [],
   "source": []
  }
 ],
 "metadata": {
  "kernelspec": {
   "display_name": "geo",
   "language": "python",
   "name": "geo"
  },
  "language_info": {
   "codemirror_mode": {
    "name": "ipython",
    "version": 3
   },
   "file_extension": ".py",
   "mimetype": "text/x-python",
   "name": "python",
   "nbconvert_exporter": "python",
   "pygments_lexer": "ipython3",
   "version": "3.8.17"
  }
 },
 "nbformat": 4,
 "nbformat_minor": 5
}
