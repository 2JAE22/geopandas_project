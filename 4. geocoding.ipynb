{
 "cells": [
  {
   "cell_type": "markdown",
   "id": "5caf6450",
   "metadata": {},
   "source": [
    "> DDD71544-CA2B-380E-B978-B0E299196B18\n",
    "\n",
    "- 국가지리정보포털_API"
   ]
  },
  {
   "cell_type": "code",
   "execution_count": 2,
   "id": "5aa316eb",
   "metadata": {
    "scrolled": true
   },
   "outputs": [
    {
     "name": "stdout",
     "output_type": "stream",
     "text": [
      "Collecting requestsNote: you may need to restart the kernel to use updated packages.\n"
     ]
    },
    {
     "name": "stderr",
     "output_type": "stream",
     "text": [
      "  WARNING: The script normalizer.exe is installed in 'C:\\Users\\user\\ananconda3.2\\envs\\geo\\Scripts' which is not on PATH.\n",
      "  Consider adding this directory to PATH or, if you prefer to suppress this warning, use --no-warn-script-location.\n"
     ]
    },
    {
     "name": "stdout",
     "output_type": "stream",
     "text": [
      "\n",
      "  Obtaining dependency information for requests from https://files.pythonhosted.org/packages/70/8e/0e2d847013cb52cd35b38c009bb167a1a26b2ce6cd6965bf26b47bc0bf44/requests-2.31.0-py3-none-any.whl.metadata\n",
      "  Downloading requests-2.31.0-py3-none-any.whl.metadata (4.6 kB)\n",
      "Collecting charset-normalizer<4,>=2 (from requests)\n",
      "  Obtaining dependency information for charset-normalizer<4,>=2 from https://files.pythonhosted.org/packages/6b/b2/9d0c8fe83572a37bd66150399e289d8e96d62eca359ffa67c021b4120887/charset_normalizer-3.2.0-cp38-cp38-win_amd64.whl.metadata\n",
      "  Downloading charset_normalizer-3.2.0-cp38-cp38-win_amd64.whl.metadata (31 kB)\n",
      "Collecting idna<4,>=2.5 (from requests)\n",
      "  Downloading idna-3.4-py3-none-any.whl (61 kB)\n",
      "     ---------------------------------------- 0.0/61.5 kB ? eta -:--:--\n",
      "     ---------------------------------------- 61.5/61.5 kB 3.2 MB/s eta 0:00:00\n",
      "Collecting urllib3<3,>=1.21.1 (from requests)\n",
      "  Obtaining dependency information for urllib3<3,>=1.21.1 from https://files.pythonhosted.org/packages/9b/81/62fd61001fa4b9d0df6e31d47ff49cfa9de4af03adecf339c7bc30656b37/urllib3-2.0.4-py3-none-any.whl.metadata\n",
      "  Downloading urllib3-2.0.4-py3-none-any.whl.metadata (6.6 kB)\n",
      "Requirement already satisfied: certifi>=2017.4.17 in c:\\users\\user\\ananconda3.2\\envs\\geo\\lib\\site-packages (from requests) (2023.7.22)\n",
      "Downloading requests-2.31.0-py3-none-any.whl (62 kB)\n",
      "   ---------------------------------------- 0.0/62.6 kB ? eta -:--:--\n",
      "   ---------------------------------------- 62.6/62.6 kB ? eta 0:00:00\n",
      "Downloading charset_normalizer-3.2.0-cp38-cp38-win_amd64.whl (96 kB)\n",
      "   ---------------------------------------- 0.0/96.2 kB ? eta -:--:--\n",
      "   ---------------------------------------- 96.2/96.2 kB 5.7 MB/s eta 0:00:00\n",
      "Downloading urllib3-2.0.4-py3-none-any.whl (123 kB)\n",
      "   ---------------------------------------- 0.0/123.9 kB ? eta -:--:--\n",
      "   ---------------------------------------- 123.9/123.9 kB 7.1 MB/s eta 0:00:00\n",
      "Installing collected packages: urllib3, idna, charset-normalizer, requests\n",
      "Successfully installed charset-normalizer-3.2.0 idna-3.4 requests-2.31.0 urllib3-2.0.4\n"
     ]
    }
   ],
   "source": [
    "pip install requests"
   ]
  },
  {
   "cell_type": "code",
   "execution_count": 3,
   "id": "4385a0b1",
   "metadata": {},
   "outputs": [],
   "source": [
    "import requests"
   ]
  },
  {
   "cell_type": "code",
   "execution_count": 12,
   "id": "f3e433b2",
   "metadata": {},
   "outputs": [],
   "source": [
    "apiurl = \"https://api.vworld.kr/req/address?\"\n",
    "params = {\n",
    "    \"service\":\"address\",\n",
    "    \"request\":\"getcoord\",\n",
    "    \"crs\":\"epsg:4326\",\n",
    "    \"address\":\"대구광역시 검단로 255\",\n",
    "    \"format\":\"json\",\n",
    "    \"type\":\"road\",\n",
    "    \"key\":\"DDD71544-CA2B-380E-B978-B0E299196B18\",\n",
    "    \"refine\":\"false\"\n",
    "}"
   ]
  },
  {
   "cell_type": "code",
   "execution_count": 13,
   "id": "e061fa06",
   "metadata": {},
   "outputs": [
    {
     "data": {
      "text/plain": [
       "200"
      ]
     },
     "execution_count": 13,
     "metadata": {},
     "output_type": "execute_result"
    }
   ],
   "source": [
    "response = requests.get(apiurl, params=params)\n",
    "response.status_code"
   ]
  },
  {
   "cell_type": "code",
   "execution_count": 6,
   "id": "88c1937f",
   "metadata": {},
   "outputs": [],
   "source": [
    "if response.status_code ==200:\n",
    "    data = response.json()\n",
    "else:\n",
    "    print(\"Something Wrong\")"
   ]
  },
  {
   "cell_type": "code",
   "execution_count": 14,
   "id": "bffba217",
   "metadata": {},
   "outputs": [
    {
     "data": {
      "text/plain": [
       "{'response': {'service': {'name': 'address',\n",
       "   'version': '2.0',\n",
       "   'operation': 'getcoord',\n",
       "   'time': '27(ms)'},\n",
       "  'status': 'OK',\n",
       "  'input': {'type': 'road', 'address': '대구광역시 검단로 255'},\n",
       "  'refined': {'text': '대구광역시 북구 검단로 255 (검단동,민들레아파트)',\n",
       "   'structure': {'level0': '대한민국',\n",
       "    'level1': '대구광역시',\n",
       "    'level2': '북구',\n",
       "    'level3': '검단동',\n",
       "    'level4L': '검단로',\n",
       "    'level4LC': '',\n",
       "    'level4A': '검단동',\n",
       "    'level4AC': '2723068000',\n",
       "    'level5': '255',\n",
       "    'detail': '민들레아파트'}},\n",
       "  'result': {'crs': 'EPSG:4326',\n",
       "   'point': {'x': '128.628154267', 'y': '35.916346821'}}}}"
      ]
     },
     "execution_count": 14,
     "metadata": {},
     "output_type": "execute_result"
    }
   ],
   "source": [
    "data"
   ]
  },
  {
   "cell_type": "code",
   "execution_count": 7,
   "id": "e46b9a4f",
   "metadata": {},
   "outputs": [
    {
     "data": {
      "text/plain": [
       "{'service': {'name': 'address',\n",
       "  'version': '2.0',\n",
       "  'operation': 'getcoord',\n",
       "  'time': '27(ms)'},\n",
       " 'status': 'OK',\n",
       " 'input': {'type': 'road', 'address': '대구광역시 검단로 255'},\n",
       " 'refined': {'text': '대구광역시 북구 검단로 255 (검단동,민들레아파트)',\n",
       "  'structure': {'level0': '대한민국',\n",
       "   'level1': '대구광역시',\n",
       "   'level2': '북구',\n",
       "   'level3': '검단동',\n",
       "   'level4L': '검단로',\n",
       "   'level4LC': '',\n",
       "   'level4A': '검단동',\n",
       "   'level4AC': '2723068000',\n",
       "   'level5': '255',\n",
       "   'detail': '민들레아파트'}},\n",
       " 'result': {'crs': 'EPSG:4326',\n",
       "  'point': {'x': '128.628154267', 'y': '35.916346821'}}}"
      ]
     },
     "execution_count": 7,
     "metadata": {},
     "output_type": "execute_result"
    }
   ],
   "source": [
    "data[\"response\"]"
   ]
  },
  {
   "cell_type": "code",
   "execution_count": 8,
   "id": "24d5bc08",
   "metadata": {},
   "outputs": [
    {
     "data": {
      "text/plain": [
       "{'crs': 'EPSG:4326', 'point': {'x': '128.628154267', 'y': '35.916346821'}}"
      ]
     },
     "execution_count": 8,
     "metadata": {},
     "output_type": "execute_result"
    }
   ],
   "source": [
    "data[\"response\"][\"result\"]"
   ]
  },
  {
   "cell_type": "code",
   "execution_count": 9,
   "id": "8f062c68",
   "metadata": {},
   "outputs": [
    {
     "data": {
      "text/plain": [
       "{'x': '128.628154267', 'y': '35.916346821'}"
      ]
     },
     "execution_count": 9,
     "metadata": {},
     "output_type": "execute_result"
    }
   ],
   "source": [
    "data[\"response\"][\"result\"][\"point\"]"
   ]
  },
  {
   "cell_type": "code",
   "execution_count": 10,
   "id": "7416749a",
   "metadata": {},
   "outputs": [
    {
     "data": {
      "text/plain": [
       "'128.628154267'"
      ]
     },
     "execution_count": 10,
     "metadata": {},
     "output_type": "execute_result"
    }
   ],
   "source": [
    "data[\"response\"][\"result\"][\"point\"][\"x\"]"
   ]
  },
  {
   "cell_type": "code",
   "execution_count": 11,
   "id": "efd7ab34",
   "metadata": {},
   "outputs": [
    {
     "data": {
      "text/plain": [
       "'35.916346821'"
      ]
     },
     "execution_count": 11,
     "metadata": {},
     "output_type": "execute_result"
    }
   ],
   "source": [
    "data[\"response\"][\"result\"][\"point\"][\"y\"]"
   ]
  },
  {
   "cell_type": "code",
   "execution_count": null,
   "id": "efdd483f",
   "metadata": {},
   "outputs": [],
   "source": []
  },
  {
   "cell_type": "code",
   "execution_count": null,
   "id": "1c097d39",
   "metadata": {},
   "outputs": [],
   "source": []
  }
 ],
 "metadata": {
  "kernelspec": {
   "display_name": "geo",
   "language": "python",
   "name": "geo"
  },
  "language_info": {
   "codemirror_mode": {
    "name": "ipython",
    "version": 3
   },
   "file_extension": ".py",
   "mimetype": "text/x-python",
   "name": "python",
   "nbconvert_exporter": "python",
   "pygments_lexer": "ipython3",
   "version": "3.8.17"
  }
 },
 "nbformat": 4,
 "nbformat_minor": 5
}
